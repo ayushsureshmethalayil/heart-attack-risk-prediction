{
 "cells": [
  {
   "cell_type": "markdown",
   "metadata": {},
   "source": [
    "# IMPORTS"
   ]
  },
  {
   "cell_type": "code",
   "execution_count": 1,
   "metadata": {},
   "outputs": [],
   "source": [
    "import pandas as pd\n",
    "import numpy as np\n",
    "import seaborn as sns\n",
    "import matplotlib.pyplot as plt\n",
    "from sklearn.preprocessing import LabelEncoder \n",
    "from sklearn.model_selection import train_test_split\n",
    "from sklearn.preprocessing import StandardScaler \n",
    "from sklearn.linear_model import LogisticRegression \n",
    "from sklearn.tree import DecisionTreeClassifier\n",
    "from sklearn.ensemble import RandomForestClassifier\n",
    "from sklearn.neighbors import KNeighborsClassifier\n",
    "from sklearn import svm\n",
    "from sklearn.svm import SVC\n",
    "from sklearn.metrics import accuracy_score\n"
   ]
  },
  {
   "cell_type": "markdown",
   "metadata": {},
   "source": [
    "# LOADING THE DATA"
   ]
  },
  {
   "cell_type": "code",
   "execution_count": 2,
   "metadata": {},
   "outputs": [
    {
     "data": {
      "text/html": [
       "<div>\n",
       "<style scoped>\n",
       "    .dataframe tbody tr th:only-of-type {\n",
       "        vertical-align: middle;\n",
       "    }\n",
       "\n",
       "    .dataframe tbody tr th {\n",
       "        vertical-align: top;\n",
       "    }\n",
       "\n",
       "    .dataframe thead th {\n",
       "        text-align: right;\n",
       "    }\n",
       "</style>\n",
       "<table border=\"1\" class=\"dataframe\">\n",
       "  <thead>\n",
       "    <tr style=\"text-align: right;\">\n",
       "      <th></th>\n",
       "      <th>age</th>\n",
       "      <th>sex</th>\n",
       "      <th>cp</th>\n",
       "      <th>trtbps</th>\n",
       "      <th>chol</th>\n",
       "      <th>fbs</th>\n",
       "      <th>restecg</th>\n",
       "      <th>thalachh</th>\n",
       "      <th>exng</th>\n",
       "      <th>caa</th>\n",
       "      <th>output</th>\n",
       "    </tr>\n",
       "  </thead>\n",
       "  <tbody>\n",
       "    <tr>\n",
       "      <th>0</th>\n",
       "      <td>63</td>\n",
       "      <td>1</td>\n",
       "      <td>3</td>\n",
       "      <td>145</td>\n",
       "      <td>233</td>\n",
       "      <td>1</td>\n",
       "      <td>0</td>\n",
       "      <td>150</td>\n",
       "      <td>0</td>\n",
       "      <td>0</td>\n",
       "      <td>1</td>\n",
       "    </tr>\n",
       "    <tr>\n",
       "      <th>1</th>\n",
       "      <td>37</td>\n",
       "      <td>1</td>\n",
       "      <td>2</td>\n",
       "      <td>130</td>\n",
       "      <td>250</td>\n",
       "      <td>0</td>\n",
       "      <td>1</td>\n",
       "      <td>187</td>\n",
       "      <td>0</td>\n",
       "      <td>0</td>\n",
       "      <td>1</td>\n",
       "    </tr>\n",
       "    <tr>\n",
       "      <th>2</th>\n",
       "      <td>41</td>\n",
       "      <td>0</td>\n",
       "      <td>1</td>\n",
       "      <td>130</td>\n",
       "      <td>204</td>\n",
       "      <td>0</td>\n",
       "      <td>0</td>\n",
       "      <td>172</td>\n",
       "      <td>0</td>\n",
       "      <td>0</td>\n",
       "      <td>1</td>\n",
       "    </tr>\n",
       "    <tr>\n",
       "      <th>3</th>\n",
       "      <td>56</td>\n",
       "      <td>1</td>\n",
       "      <td>1</td>\n",
       "      <td>120</td>\n",
       "      <td>236</td>\n",
       "      <td>0</td>\n",
       "      <td>1</td>\n",
       "      <td>178</td>\n",
       "      <td>0</td>\n",
       "      <td>0</td>\n",
       "      <td>1</td>\n",
       "    </tr>\n",
       "    <tr>\n",
       "      <th>4</th>\n",
       "      <td>57</td>\n",
       "      <td>0</td>\n",
       "      <td>0</td>\n",
       "      <td>120</td>\n",
       "      <td>354</td>\n",
       "      <td>0</td>\n",
       "      <td>1</td>\n",
       "      <td>163</td>\n",
       "      <td>1</td>\n",
       "      <td>0</td>\n",
       "      <td>1</td>\n",
       "    </tr>\n",
       "  </tbody>\n",
       "</table>\n",
       "</div>"
      ],
      "text/plain": [
       "   age  sex  cp  trtbps  chol  fbs  restecg  thalachh  exng  caa  output\n",
       "0   63    1   3     145   233    1        0       150     0    0       1\n",
       "1   37    1   2     130   250    0        1       187     0    0       1\n",
       "2   41    0   1     130   204    0        0       172     0    0       1\n",
       "3   56    1   1     120   236    0        1       178     0    0       1\n",
       "4   57    0   0     120   354    0        1       163     1    0       1"
      ]
     },
     "execution_count": 2,
     "metadata": {},
     "output_type": "execute_result"
    }
   ],
   "source": [
    "df= pd.read_csv(\"heart1.csv\")\n",
    "df= df.drop(['oldpeak','slp','thall'],axis=1)\n",
    "df.head()"
   ]
  },
  {
   "cell_type": "markdown",
   "metadata": {},
   "source": [
    "# STANDARDIZING THE DATA\n"
   ]
  },
  {
   "cell_type": "code",
   "execution_count": 3,
   "metadata": {},
   "outputs": [],
   "source": [
    "scale=StandardScaler()\n",
    "scale.fit(df)\n",
    "df= scale.transform(df)\n",
    "df=pd.DataFrame(df,columns=['age', 'sex', 'cp', 'trtbps', 'chol', 'fbs', 'restecg', 'thalachh',\n",
    "       'exng', 'caa', 'output'])"
   ]
  },
  {
   "cell_type": "markdown",
   "metadata": {},
   "source": [
    "# SPLITTING DATA INTO TRAIN DATA AND TEST DATA"
   ]
  },
  {
   "cell_type": "code",
   "execution_count": 4,
   "metadata": {},
   "outputs": [
    {
     "name": "stdout",
     "output_type": "stream",
     "text": [
      "          age       sex        cp    trtbps      chol       fbs   restecg  \\\n",
      "0    0.952197  0.681005  1.973123  0.763956 -0.256334  2.394438 -1.005832   \n",
      "1   -1.915313  0.681005  1.002577 -0.092738  0.072199 -0.417635  0.898962   \n",
      "2   -1.474158 -1.468418  0.032031 -0.092738 -0.816773 -0.417635 -1.005832   \n",
      "3    0.180175  0.681005  0.032031 -0.663867 -0.198357 -0.417635  0.898962   \n",
      "4    0.290464 -1.468418 -0.938515 -0.663867  2.082050 -0.417635  0.898962   \n",
      "..        ...       ...       ...       ...       ...       ...       ...   \n",
      "298  0.290464 -1.468418 -0.938515  0.478391 -0.101730 -0.417635  0.898962   \n",
      "299 -1.033002  0.681005  1.973123 -1.234996  0.342756 -0.417635  0.898962   \n",
      "300  1.503641  0.681005 -0.938515  0.706843 -1.029353  2.394438  0.898962   \n",
      "301  0.290464  0.681005 -0.938515 -0.092738 -2.227533 -0.417635  0.898962   \n",
      "302  0.290464 -1.468418  0.032031 -0.092738 -0.198357 -0.417635 -1.005832   \n",
      "\n",
      "     thalachh      exng       caa  \n",
      "0    0.015443 -0.696631 -0.714429  \n",
      "1    1.633471 -0.696631 -0.714429  \n",
      "2    0.977514 -0.696631 -0.714429  \n",
      "3    1.239897 -0.696631 -0.714429  \n",
      "4    0.583939  1.435481 -0.714429  \n",
      "..        ...       ...       ...  \n",
      "298 -1.165281  1.435481 -0.714429  \n",
      "299 -0.771706 -0.696631 -0.714429  \n",
      "300 -0.378132 -0.696631  1.244593  \n",
      "301 -1.515125  1.435481  0.265082  \n",
      "302  1.064975 -0.696631  0.265082  \n",
      "\n",
      "[303 rows x 10 columns]\n",
      "       output\n",
      "0    0.914529\n",
      "1    0.914529\n",
      "2    0.914529\n",
      "3    0.914529\n",
      "4    0.914529\n",
      "..        ...\n",
      "298 -1.093459\n",
      "299 -1.093459\n",
      "300 -1.093459\n",
      "301 -1.093459\n",
      "302 -1.093459\n",
      "\n",
      "[303 rows x 1 columns]\n"
     ]
    },
    {
     "name": "stderr",
     "output_type": "stream",
     "text": [
      "/Library/Frameworks/Python.framework/Versions/3.10/lib/python3.10/site-packages/sklearn/preprocessing/_label.py:115: DataConversionWarning: A column-vector y was passed when a 1d array was expected. Please change the shape of y to (n_samples, ), for example using ravel().\n",
      "  y = column_or_1d(y, warn=True)\n"
     ]
    }
   ],
   "source": [
    "x= df.iloc[:,:-1]\n",
    "print(x)\n",
    "y= df.iloc[:,-1:]\n",
    "print(y)\n",
    "x_train, x_test, y_train, y_test = train_test_split(x, y, test_size=0.3, random_state=101)\n",
    "lbl= LabelEncoder()\n",
    "encoded_y= lbl.fit_transform(y_train)"
   ]
  },
  {
   "cell_type": "markdown",
   "metadata": {},
   "source": [
    "# LOGISTIC REGRESSION"
   ]
  },
  {
   "cell_type": "code",
   "execution_count": 5,
   "metadata": {},
   "outputs": [
    {
     "name": "stdout",
     "output_type": "stream",
     "text": [
      "Logistic regression accuracy = 85.71428571428571 %\n",
      "[[35  9]\n",
      " [ 4 43]]\n"
     ]
    },
    {
     "name": "stderr",
     "output_type": "stream",
     "text": [
      "/Library/Frameworks/Python.framework/Versions/3.10/lib/python3.10/site-packages/sklearn/preprocessing/_label.py:115: DataConversionWarning: A column-vector y was passed when a 1d array was expected. Please change the shape of y to (n_samples, ), for example using ravel().\n",
      "  y = column_or_1d(y, warn=True)\n"
     ]
    }
   ],
   "source": [
    "logreg= LogisticRegression()\n",
    "logreg = LogisticRegression()\n",
    "logreg.fit(x_train, encoded_y)\n",
    "from sklearn.metrics import confusion_matrix\n",
    "encoded_ytest= lbl.fit_transform(y_test)\n",
    "Y_pred1 = logreg.predict(x_test)\n",
    "lr_conf_matrix = confusion_matrix(encoded_ytest,Y_pred1 )\n",
    "lr_acc_score = accuracy_score(encoded_ytest, Y_pred1)\n",
    "print(\"Logistic regression accuracy =\",lr_acc_score*100,\"%\") # Printing the accuracy\n",
    "print(lr_conf_matrix) # Printing the confusion matrix"
   ]
  },
  {
   "cell_type": "markdown",
   "metadata": {},
   "source": [
    "\n",
    "# DECISION TREE CLASSIFICATION ALGO"
   ]
  },
  {
   "cell_type": "code",
   "execution_count": 6,
   "metadata": {},
   "outputs": [
    {
     "name": "stdout",
     "output_type": "stream",
     "text": [
      "Decision tree accuracy = 68.13186813186813 %\n",
      "[[26 18]\n",
      " [11 36]]\n"
     ]
    },
    {
     "name": "stderr",
     "output_type": "stream",
     "text": [
      "/Library/Frameworks/Python.framework/Versions/3.10/lib/python3.10/site-packages/sklearn/preprocessing/_label.py:115: DataConversionWarning: A column-vector y was passed when a 1d array was expected. Please change the shape of y to (n_samples, ), for example using ravel().\n",
      "  y = column_or_1d(y, warn=True)\n"
     ]
    }
   ],
   "source": [
    "tree= DecisionTreeClassifier()\n",
    "tree.fit(x_train,encoded_y)\n",
    "ypred2=tree.predict(x_test)\n",
    "encoded_ytest= lbl.fit_transform(y_test)\n",
    "tree_conf_matrix = confusion_matrix(encoded_ytest,ypred2 )\n",
    "tree_acc_score = accuracy_score(encoded_ytest, ypred2)\n",
    "print(\"Decision tree accuracy =\",tree_acc_score*100,\"%\") # Printing the accuracy\n",
    "print(tree_conf_matrix) # Printing the confusion matrix"
   ]
  },
  {
   "cell_type": "markdown",
   "metadata": {},
   "source": [
    "# RANDOM FOREST ALGO"
   ]
  },
  {
   "cell_type": "code",
   "execution_count": 7,
   "metadata": {},
   "outputs": [
    {
     "name": "stdout",
     "output_type": "stream",
     "text": [
      "Random forest accuracy = 80.21978021978022 %\n",
      "[[33 11]\n",
      " [ 7 40]]\n"
     ]
    }
   ],
   "source": [
    "rf= RandomForestClassifier()\n",
    "rf.fit(x_train,encoded_y)\n",
    "ypred3 = rf.predict(x_test)\n",
    "rf_conf_matrix = confusion_matrix(encoded_ytest,ypred3 )\n",
    "rf_acc_score = accuracy_score(encoded_ytest, ypred3)\n",
    "rf_conf_matrix = confusion_matrix(encoded_ytest,ypred3 )\n",
    "rf_acc_score = accuracy_score(encoded_ytest, ypred3)\n",
    "print(\"Random forest accuracy =\",rf_acc_score*100,\"%\") # Printing the accuracy\n",
    "print(rf_conf_matrix) # Printing the confusion matrix"
   ]
  },
  {
   "cell_type": "markdown",
   "metadata": {},
   "source": [
    "# K-NEAREST NEIGHBOUR ALGO"
   ]
  },
  {
   "cell_type": "code",
   "execution_count": 8,
   "metadata": {},
   "outputs": [
    {
     "name": "stdout",
     "output_type": "stream",
     "text": [
      "K-nearest neighbour accuracy = 84.61538461538461 %\n",
      "[[35  9]\n",
      " [ 5 42]]\n"
     ]
    }
   ],
   "source": [
    "error_rate= []\n",
    "for i in range(1,40):\n",
    "    knn= KNeighborsClassifier(n_neighbors=i)\n",
    "    knn.fit(x_train,encoded_y)\n",
    "    pred= knn.predict(x_test)\n",
    "    error_rate.append(np.mean(pred != encoded_ytest))\n",
    "knn= KNeighborsClassifier(n_neighbors=12)\n",
    "knn.fit(x_train,encoded_y)\n",
    "ypred4= knn.predict(x_test)\n",
    "knn_conf_matrix = confusion_matrix(encoded_ytest,ypred4 )\n",
    "knn_acc_score = accuracy_score(encoded_ytest, ypred4) \n",
    "print(\"K-nearest neighbour accuracy =\",knn_acc_score*100,\"%\") # Printing the accuracy\n",
    "print(knn_conf_matrix) # Printing the confusion matrix"
   ]
  },
  {
   "cell_type": "markdown",
   "metadata": {},
   "source": [
    "# SUPPORT VECTOR MACHINE ALGO"
   ]
  },
  {
   "cell_type": "code",
   "execution_count": 9,
   "metadata": {},
   "outputs": [
    {
     "name": "stdout",
     "output_type": "stream",
     "text": [
      "SVM accuracy = 80.21978021978022 %\n",
      "[[34 10]\n",
      " [ 8 39]]\n"
     ]
    }
   ],
   "source": [
    "svm= svm.SVC()\n",
    "svm.fit(x_train,encoded_y)\n",
    "ypred5= svm.predict(x_test)\n",
    "svm_conf_matrix = confusion_matrix(encoded_ytest,ypred5)\n",
    "svm_acc_score = accuracy_score(encoded_ytest, ypred5)\n",
    "print(\"SVM accuracy =\",svm_acc_score*100,\"%\") # Printing the accuracy\n",
    "print(svm_conf_matrix) # Printing the confusion matrix"
   ]
  },
  {
   "cell_type": "markdown",
   "metadata": {},
   "source": [
    "# Accuracy in Table form "
   ]
  },
  {
   "cell_type": "code",
   "execution_count": 10,
   "metadata": {},
   "outputs": [
    {
     "name": "stdout",
     "output_type": "stream",
     "text": [
      "                 Model   Accuracy\n",
      "0  Logistic Regression  85.714286\n",
      "3   K Nearest Neighbor  84.615385\n",
      "2        Random Forest  80.219780\n",
      "4                  SVM  80.219780\n",
      "1        Decision Tree  68.131868\n",
      "Most accurate model is Logistic Regression\n"
     ]
    }
   ],
   "source": [
    "model_acc= pd.DataFrame({'Model' : ['Logistic Regression','Decision Tree','Random Forest','K Nearest Neighbor','SVM'],'Accuracy' : [lr_acc_score*100,tree_acc_score*100,rf_acc_score*100,knn_acc_score*100,svm_acc_score*100]})\n",
    "model_acc = model_acc.sort_values(by=['Accuracy'],ascending=False)\n",
    "print(model_acc)\n",
    "print(\"Most accurate model is Logistic Regression\")"
   ]
  }
 ],
 "metadata": {
  "kernelspec": {
   "display_name": "Python 3.10.5 64-bit",
   "language": "python",
   "name": "python3"
  },
  "language_info": {
   "codemirror_mode": {
    "name": "ipython",
    "version": 3
   },
   "file_extension": ".py",
   "mimetype": "text/x-python",
   "name": "python",
   "nbconvert_exporter": "python",
   "pygments_lexer": "ipython3",
   "version": "3.10.5"
  },
  "orig_nbformat": 4,
  "vscode": {
   "interpreter": {
    "hash": "aee8b7b246df8f9039afb4144a1f6fd8d2ca17a180786b69acc140d282b71a49"
   }
  }
 },
 "nbformat": 4,
 "nbformat_minor": 2
}
